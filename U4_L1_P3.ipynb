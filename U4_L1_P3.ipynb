{
 "cells": [
  {
   "cell_type": "markdown",
   "metadata": {},
   "source": [
    "# Drill - Supervised or Unsupervised?"
   ]
  },
  {
   "cell_type": "markdown",
   "metadata": {},
   "source": [
    "1. __Define the likelihood that an individual will contract a specific disease__ <br>\n",
    "This would be supervised learning.  We would use features and disease outcomes from a sample population and use that to perform a logistic regression, random forest, or other classifier to predict the probability that an individual has a disease.<br>\n",
    "<br>\n",
    "2. __Translate a set of images into variables for modeling__ <br>\n",
    "This depends on whether or not we know what those variables are ahead of time.  If we do not know what those variables are, then it is unsupervised learning.  If we do know the variables we are attempting to predict, then it could be supervised learning.<br>\n",
    "<br>\n",
    "3. __An ecommerce company wants to identify power users__ <br>\n",
    "This is likely supervised learning.  The ecommerce company knows what the definition of a power user is, and would have a data set of power users and not power users.  We could then perform supervised classification learning on the dataset to identify other power users. <br>\n",
    "<br>\n",
    "4. __That same company wants to see shopping patterns in users__<br>\n",
    "This would be unsupervised learning.  We don't know ahead of time what those patterns might be and perform the learning to find them out.<br>\n",
    "<br>\n",
    "5. __You want to reduce the number of variables inputting into your random forest model__<br>\n",
    "This could be unsupervised learning.  For example, PCA can be used to determine the important variables.  The random forest model can also be used to select important features and input them into another random forest model.  This would be using supervised learning to select variables.  <br>"
   ]
  },
  {
   "cell_type": "code",
   "execution_count": null,
   "metadata": {},
   "outputs": [],
   "source": []
  }
 ],
 "metadata": {
  "kernelspec": {
   "display_name": "Python 3",
   "language": "python",
   "name": "python3"
  },
  "language_info": {
   "codemirror_mode": {
    "name": "ipython",
    "version": 3
   },
   "file_extension": ".py",
   "mimetype": "text/x-python",
   "name": "python",
   "nbconvert_exporter": "python",
   "pygments_lexer": "ipython3",
   "version": "3.7.0"
  }
 },
 "nbformat": 4,
 "nbformat_minor": 2
}
